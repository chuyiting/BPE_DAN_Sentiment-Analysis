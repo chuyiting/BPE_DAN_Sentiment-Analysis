{
 "cells": [
  {
   "cell_type": "code",
   "execution_count": 1,
   "metadata": {},
   "outputs": [],
   "source": [
    "import re, collections\n",
    "def get_stat(vocab):\n",
    "    \"\"\"\n",
    "    Compute the frequency for each pair in the vocab.\n",
    "\n",
    "    Args:\n",
    "        vocab (Dict[List[str], int]): A dictionary where the keys are strings \n",
    "                                with space-separated characters and the values are integer frequencies.\n",
    "    \n",
    "    Returns:\n",
    "        Dict[tuple, int]: All two tuples and their frequencies\n",
    "    \"\"\"\n",
    "    pairs = collections.defaultdict(int)\n",
    "    for word, freq in vocab.items():\n",
    "        symbols = word.split()\n",
    "        for i in range(len(symbols)-1):\n",
    "            pairs[symbols[i], symbols[i+1]] += freq\n",
    "    return pairs"
   ]
  },
  {
   "cell_type": "code",
   "execution_count": 2,
   "metadata": {},
   "outputs": [],
   "source": [
    "def merge_vocab(pair, v_in):\n",
    "    \"\"\"\n",
    "    Merge the pair in the vocabulary\n",
    "\n",
    "    Args:\n",
    "        pair (tuple(str, str)): the most frequent pair of words\n",
    "        v_in (Dict[str, int]): A dictionary where the keys are strings \n",
    "                                with space-separated characters and the values are integer frequencies.\n",
    "    Returns:\n",
    "        (Dict[str, int]): The new vocabuary that has the two most frequent pair merged\n",
    "    \"\"\"\n",
    "    v_out = {}\n",
    "    bigram = re.escape(' '.join(pair))\n",
    "    p = re.compile(r'(?<!\\S)' + bigram + r'(?<!\\S)' )\n",
    "    for word in v_in:\n",
    "        w_out = p.sub(''.join(pair), word) # new sentence with merged pair\n",
    "        v_out[w_out] = v_in[word] # same frequency\n",
    "    return v_out"
   ]
  },
  {
   "cell_type": "code",
   "execution_count": null,
   "metadata": {},
   "outputs": [],
   "source": [
    "list(\"hello   world\")"
   ]
  },
  {
   "cell_type": "code",
   "execution_count": null,
   "metadata": {},
   "outputs": [],
   "source": [
    "my_list = [\"apple!!\", \"banana   \", \"cherry()\"]\n",
    "\n",
    "# Use a set to get unique characters\n",
    "unique_chars = set(\"\".join(my_list))\n",
    "unique_chars"
   ]
  },
  {
   "cell_type": "code",
   "execution_count": 1,
   "metadata": {},
   "outputs": [],
   "source": [
    "def get_stats(tokens):\n",
    "    \"\"\" \n",
    "    Compute the frequency for each pair in the vocab. \n",
    "\n",
    "    Args:\n",
    "        tokens (List[List[str]]): a list of sentences while sentences are represented as lists of tokens\n",
    "    \n",
    "    Returns:\n",
    "        Dict[tuple, int]: All two tuples and their frequencies\n",
    "    \"\"\"\n",
    "    counts = {}\n",
    "    for t in tokens:\n",
    "        for pair in zip(t, t[1:]):\n",
    "            counts[pair] = counts.get(pair, 0) + 1\n",
    "    \n",
    "    return counts"
   ]
  },
  {
   "cell_type": "code",
   "execution_count": 1,
   "metadata": {},
   "outputs": [],
   "source": [
    "# making the training text longer to have more representative token statistics\n",
    "# text from https://www.reedbeta.com/blog/programmers-intro-to-unicode/\n",
    "text = [\"\"\"A Programmer’s Introduction to Unicode March 3, 2017 · Coding · 22 Comments  Ｕｎｉｃｏｄｅ! 🅤🅝🅘🅒🅞🅓🅔‽ 🇺\\u200c🇳\\u200c🇮\\u200c🇨\\u200c🇴\\u200c🇩\\u200c🇪! 😄 The very name strikes fear and awe into the hearts of programmers worldwide. We all know we ought to “support Unicode” in our software (whatever that means—like using wchar_t for all the strings, right?). But Unicode can be abstruse, and diving into the thousand-page Unicode Standard plus its dozens of supplementary annexes, reports, and notes can be more than a little intimidating. I don’t blame programmers for still finding the whole thing mysterious, even 30 years after Unicode’s inception.  A few months ago, I got interested in Unicode and decided to spend some time learning more about it in detail. In this article, I’ll give an introduction to it from a programmer’s point of view.  I’m going to focus on the character set and what’s involved in working with strings and files of Unicode text. However, in this article I’m not going to talk about fonts, text layout/shaping/rendering, or localization in detail—those are separate issues, beyond my scope (and knowledge) here.  Diversity and Inherent Complexity The Unicode Codespace Codespace Allocation Scripts Usage Frequency Encodings UTF-8 UTF-16 Combining Marks Canonical Equivalence Normalization Forms Grapheme Clusters And More… Diversity and Inherent Complexity As soon as you start to study Unicode, it becomes clear that it represents a large jump in complexity over character sets like ASCII that you may be more familiar with. It’s not just that Unicode contains a much larger number of characters, although that’s part of it. Unicode also has a great deal of internal structure, features, and special cases, making it much more than what one might expect a mere “character set” to be. We’ll see some of that later in this article.  When confronting all this complexity, especially as an engineer, it’s hard not to find oneself asking, “Why do we need all this? Is this really necessary? Couldn’t it be simplified?”  However, Unicode aims to faithfully represent the entire world’s writing systems. The Unicode Consortium’s stated goal is “enabling people around the world to use computers in any language”. And as you might imagine, the diversity of written languages is immense! To date, Unicode supports 135 different scripts, covering some 1100 languages, and there’s still a long tail of over 100 unsupported scripts, both modern and historical, which people are still working to add.  Given this enormous diversity, it’s inevitable that representing it is a complicated project. Unicode embraces that diversity, and accepts the complexity inherent in its mission to include all human writing systems. It doesn’t make a lot of trade-offs in the name of simplification, and it makes exceptions to its own rules where necessary to further its mission.  Moreover, Unicode is committed not just to supporting texts in any single language, but also to letting multiple languages coexist within one text—which introduces even more complexity.  Most programming languages have libraries available to handle the gory low-level details of text manipulation, but as a programmer, you’ll still need to know about certain Unicode features in order to know when and how to apply them. It may take some time to wrap your head around it all, but don’t be discouraged—think about the billions of people for whom your software will be more accessible through supporting text in their language. Embrace the complexity!  The Unicode Codespace Let’s start with some general orientation. The basic elements of Unicode—its “characters”, although that term isn’t quite right—are called code points. Code points are identified by number, customarily written in hexadecimal with the prefix “U+”, such as U+0041 “A” latin capital letter a or U+03B8 “θ” greek small letter theta. Each code point also has a short name, and quite a few other properties, specified in the Unicode Character Database.  The set of all possible code points is called the codespace. The Unicode codespace consists of 1,114,112 code points. However, only 128,237 of them—about 12% of the codespace—are actually assigned, to date. There’s plenty of room for growth! Unicode also reserves an additional 137,468 code points as “private use” areas, which have no standardized meaning and are available for individual applications to define for their own purposes.  Codespace Allocation To get a feel for how the codespace is laid out, it’s helpful to visualize it. Below is a map of the entire codespace, with one pixel per code point. It’s arranged in tiles for visual coherence; each small square is 16×16 = 256 code points, and each large square is a “plane” of 65,536 code points. There are 17 planes altogether.  Map of the Unicode codespace (click to zoom)  White represents unassigned space. Blue is assigned code points, green is private-use areas, and the small red area is surrogates (more about those later). As you can see, the assigned code points are distributed somewhat sparsely, but concentrated in the first three planes.  Plane 0 is also known as the “Basic Multilingual Plane”, or BMP. The BMP contains essentially all the characters needed for modern text in any script, including Latin, Cyrillic, Greek, Han (Chinese), Japanese, Korean, Arabic, Hebrew, Devanagari (Indian), and many more.  (In the past, the codespace was just the BMP and no more—Unicode was originally conceived as a straightforward 16-bit encoding, with only 65,536 code points. It was expanded to its current size in 1996. However, the vast majority of code points in modern text belong to the BMP.)  Plane 1 contains historical scripts, such as Sumerian cuneiform and Egyptian hieroglyphs, as well as emoji and various other symbols. Plane 2 contains a large block of less-common and historical Han characters. The remaining planes are empty, except for a small number of rarely-used formatting characters in Plane 14; planes 15–16 are reserved entirely for private use.  Scripts Let’s zoom in on the first three planes, since that’s where the action is:  Map of scripts in Unicode planes 0–2 (click to zoom)  This map color-codes the 135 different scripts in Unicode. You can see how Han () and Korean () take up most of the range of the BMP (the left large square). By contrast, all of the European, Middle Eastern, and South Asian scripts fit into the first row of the BMP in this diagram.  Many areas of the codespace are adapted or copied from earlier encodings. For example, the first 128 code points of Unicode are just a copy of ASCII. This has clear benefits for compatibility—it’s easy to losslessly convert texts from smaller encodings into Unicode (and the other direction too, as long as no characters outside the smaller encoding are used).  Usage Frequency One more interesting way to visualize the codespace is to look at the distribution of usage—in other words, how often each code point is actually used in real-world texts. Below is a heat map of planes 0–2 based on a large sample of text from Wikipedia and Twitter (all languages). Frequency increases from black (never seen) through red and yellow to white.  Heat map of code point usage frequency in Unicode planes 0–2 (click to zoom)  You can see that the vast majority of this text sample lies in the BMP, with only scattered usage of code points from planes 1–2. The biggest exception is emoji, which show up here as the several bright squares in the bottom row of plane 1.  Encodings We’ve seen that Unicode code points are abstractly identified by their index in the codespace, ranging from U+0000 to U+10FFFF. But how do code points get represented as bytes, in memory or in a file?  The most convenient, computer-friendliest (and programmer-friendliest) thing to do would be to just store the code point index as a 32-bit integer. This works, but it consumes 4 bytes per code point, which is sort of a lot. Using 32-bit ints for Unicode will cost you a bunch of extra storage, memory, and performance in bandwidth-bound scenarios, if you work with a lot of text.  Consequently, there are several more-compact encodings for Unicode. The 32-bit integer encoding is officially called UTF-32 (UTF = “Unicode Transformation Format”), but it’s rarely used for storage. At most, it comes up sometimes as a temporary internal representation, for examining or operating on the code points in a string.  Much more commonly, you’ll see Unicode text encoded as either UTF-8 or UTF-16. These are both variable-length encodings, made up of 8-bit or 16-bit units, respectively. In these schemes, code points with smaller index values take up fewer bytes, which saves a lot of memory for typical texts. The trade-off is that processing UTF-8/16 texts is more programmatically involved, and likely slower.  UTF-8 In UTF-8, each code point is stored using 1 to 4 bytes, based on its index value.  UTF-8 uses a system of binary prefixes, in which the high bits of each byte mark whether it’s a single byte, the beginning of a multi-byte sequence, or a continuation byte; the remaining bits, concatenated, give the code point index. This table shows how it works:  UTF-8 (binary)\\tCode point (binary)\\tRange 0xxxxxxx\\txxxxxxx\\tU+0000–U+007F 110xxxxx 10yyyyyy\\txxxxxyyyyyy\\tU+0080–U+07FF 1110xxxx 10yyyyyy 10zzzzzz\\txxxxyyyyyyzzzzzz\\tU+0800–U+FFFF 11110xxx 10yyyyyy 10zzzzzz 10wwwwww\\txxxyyyyyyzzzzzzwwwwww\\tU+10000–U+10FFFF A handy property of UTF-8 is that code points below 128 (ASCII characters) are encoded as single bytes, and all non-ASCII code points are encoded using sequences of bytes 128–255. This has a couple of nice consequences. First, any strings or files out there that are already in ASCII can also be interpreted as UTF-8 without any conversion. Second, lots of widely-used string programming idioms—such as null termination, or delimiters (newlines, tabs, commas, slashes, etc.)—will just work on UTF-8 strings. ASCII bytes never occur inside the encoding of non-ASCII code points, so searching byte-wise for a null terminator or a delimiter will do the right thing.  Thanks to this convenience, it’s relatively simple to extend legacy ASCII programs and APIs to handle UTF-8 strings. UTF-8 is very widely used in the Unix/Linux and Web worlds, and many programmers argue UTF-8 should be the default encoding everywhere.  However, UTF-8 isn’t a drop-in replacement for ASCII strings in all respects. For instance, code that iterates over the “characters” in a string will need to decode UTF-8 and iterate over code points (or maybe grapheme clusters—more about those later), not bytes. When you measure the “length” of a string, you’ll need to think about whether you want the length in bytes, the length in code points, the width of the text when rendered, or something else.  UTF-16 The other encoding that you’re likely to encounter is UTF-16. It uses 16-bit words, with each code point stored as either 1 or 2 words.  Like UTF-8, we can express the UTF-16 encoding rules in the form of binary prefixes:  UTF-16 (binary)\\tCode point (binary)\\tRange xxxxxxxxxxxxxxxx\\txxxxxxxxxxxxxxxx\\tU+0000–U+FFFF 110110xxxxxxxxxx 110111yyyyyyyyyy\\txxxxxxxxxxyyyyyyyyyy + 0x10000\\tU+10000–U+10FFFF A more common way that people talk about UTF-16 encoding, though, is in terms of code points called “surrogates”. All the code points in the range U+D800–U+DFFF—or in other words, the code points that match the binary prefixes 110110 and 110111 in the table above—are reserved specifically for UTF-16 encoding, and don’t represent any valid characters on their own. They’re only meant to occur in the 2-word encoding pattern above, which is called a “surrogate pair”. Surrogate code points are illegal in any other context! They’re not allowed in UTF-8 or UTF-32 at all.  Historically, UTF-16 is a descendant of the original, pre-1996 versions of Unicode, in which there were only 65,536 code points. The original intention was that there would be no different “encodings”; Unicode was supposed to be a straightforward 16-bit character set. Later, the codespace was expanded to make room for a long tail of less-common (but still important) Han characters, which the Unicode designers didn’t originally plan for. Surrogates were then introduced, as—to put it bluntly—a kludge, allowing 16-bit encodings to access the new code points.  Today, Javascript uses UTF-16 as its standard string representation: if you ask for the length of a string, or iterate over it, etc., the result will be in UTF-16 words, with any code points outside the BMP expressed as surrogate pairs. UTF-16 is also used by the Microsoft Win32 APIs; though Win32 supports either 8-bit or 16-bit strings, the 8-bit version unaccountably still doesn’t support UTF-8—only legacy code-page encodings, like ANSI. This leaves UTF-16 as the only way to get proper Unicode support in Windows. (Update: in Win10 version 1903, they finally added UTF-8 support to the 8-bit APIs! 😊)  By the way, UTF-16’s words can be stored either little-endian or big-endian. Unicode has no opinion on that issue, though it does encourage the convention of putting U+FEFF zero width no-break space at the top of a UTF-16 file as a byte-order mark, to disambiguate the endianness. (If the file doesn’t match the system’s endianness, the BOM will be decoded as U+FFFE, which isn’t a valid code point.)  Combining Marks In the story so far, we’ve been focusing on code points. But in Unicode, a “character” can be more complicated than just an individual code point!  Unicode includes a system for dynamically composing characters, by combining multiple code points together. This is used in various ways to gain flexibility without causing a huge combinatorial explosion in the number of code points.  In European languages, for example, this shows up in the application of diacritics to letters. Unicode supports a wide range of diacritics, including acute and grave accents, umlauts, cedillas, and many more. All these diacritics can be applied to any letter of any alphabet—and in fact, multiple diacritics can be used on a single letter.  If Unicode tried to assign a distinct code point to every possible combination of letter and diacritics, things would rapidly get out of hand. Instead, the dynamic composition system enables you to construct the character you want, by starting with a base code point (the letter) and appending additional code points, called “combining marks”, to specify the diacritics. When a text renderer sees a sequence like this in a string, it automatically stacks the diacritics over or under the base letter to create a composed character.  For example, the accented character “Á” can be expressed as a string of two code points: U+0041 “A” latin capital letter a plus U+0301 “◌́” combining acute accent. This string automatically gets rendered as a single character: “Á”.  Now, Unicode does also include many “precomposed” code points, each representing a letter with some combination of diacritics already applied, such as U+00C1 “Á” latin capital letter a with acute or U+1EC7 “ệ” latin small letter e with circumflex and dot below. I suspect these are mostly inherited from older encodings that were assimilated into Unicode, and kept around for compatibility. In practice, there are precomposed code points for most of the common letter-with-diacritic combinations in European-script languages, so they don’t use dynamic composition that much in typical text.  Still, the system of combining marks does allow for an arbitrary number of diacritics to be stacked on any base character. The reductio-ad-absurdum of this is Zalgo text, which works by ͖͟ͅr͞aṋ̫̠̖͈̗d͖̻̹óm̪͙͕̗̝ļ͇̰͓̳̫ý͓̥̟͍ ̕s̫t̫̱͕̗̰̼̘͜a̼̩͖͇̠͈̣͝c̙͍k̖̱̹͍͘i̢n̨̺̝͇͇̟͙ģ̫̮͎̻̟ͅ ̕n̼̺͈͞u̮͙m̺̭̟̗͞e̞͓̰̤͓̫r̵o̖ṷs҉̪͍̭̬̝̤ ̮͉̝̞̗̟͠d̴̟̜̱͕͚i͇̫̼̯̭̜͡ḁ͙̻̼c̲̲̹r̨̠̹̣̰̦i̱t̤̻̤͍͙̘̕i̵̜̭̤̱͎c̵s ͘o̱̲͈̙͖͇̲͢n͘ ̜͈e̬̲̠̩ac͕̺̠͉h̷̪ ̺̣͖̱ḻ̫̬̝̹ḙ̙̺͙̭͓̲t̞̞͇̲͉͍t̷͔̪͉̲̻̠͙e̦̻͈͉͇r͇̭̭̬͖,̖́ ̜͙͓̣̭s̘̘͈o̱̰̤̲ͅ ̛̬̜̙t̼̦͕̱̹͕̥h̳̲͈͝ͅa̦t̻̲ ̻̟̭̦̖t̛̰̩h̠͕̳̝̫͕e͈̤̘͖̞͘y҉̝͙ ̷͉͔̰̠o̞̰v͈͈̳̘͜er̶f̰͈͔ḻ͕̘̫̺̲o̲̭͙͠ͅw̱̳̺ ͜t̸h͇̭͕̳͍e̖̯̟̠ ͍̞̜͔̩̪͜ļ͎̪̲͚i̝̲̹̙̩̹n̨̦̩̖ḙ̼̲̼͢ͅ ̬͝s̼͚̘̞͝p͙̘̻a̙c҉͉̜̤͈̯̖i̥͡n̦̠̱͟g̸̗̻̦̭̮̟ͅ ̳̪̠͖̳̯̕a̫͜n͝d͡ ̣̦̙ͅc̪̗r̴͙̮̦̹̳e͇͚̞͔̹̫͟a̙̺̙ț͔͎̘̹ͅe̥̩͍ a͖̪̜̮͙̹n̢͉̝ ͇͉͓̦̼́a̳͖̪̤̱p̖͔͔̟͇͎͠p̱͍̺ę̲͎͈̰̲̤̫a̯͜r̨̮̫̣̘a̩̯͖n̹̦̰͎̣̞̞c̨̦̱͔͎͍͖e̬͓͘ ̤̰̩͙̤̬͙o̵̼̻̬̻͇̮̪f̴ ̡̙̭͓͖̪̤“̸͙̠̼c̳̗͜o͏̼͙͔̮r̞̫̺̞̥̬ru̺̻̯͉̭̻̯p̰̥͓̣̫̙̤͢t̳͍̳̖ͅi̶͈̝͙̼̙̹o̡͔n̙̺̹̖̩͝ͅ”̨̗͖͚̩.̯͓  A few other places where dynamic character composition shows up in Unicode:  Vowel-pointing notation in Arabic and Hebrew. In these languages, words are normally spelled with some of their vowels left out. They then have diacritic notation to indicate the vowels (used in dictionaries, language-teaching materials, children’s books, and such). These diacritics are expressed with combining marks.  A Hebrew example, with niqqud:\\tאֶת דַלְתִּי הֵזִיז הֵנִיעַ, קֶטֶב לִשְׁכַּתִּי יָשׁוֹד Normal writing (no niqqud):\\tאת דלתי הזיז הניע, קטב לשכתי ישוד Devanagari, the script used to write Hindi, Sanskrit, and many other South Asian languages, expresses certain vowels as combining marks attached to consonant letters. For example, “ह” + “\\u200bि” = “हि” (“h” + “i” = “hi”). Korean characters stand for syllables, but they are composed of letters called jamo that stand for the vowels and consonants in the syllable. While there are code points for precomposed Korean syllables, it’s also possible to dynamically compose them by concatenating their jamo. For example, “ᄒ” + “ᅡ” + “ᆫ” = “한” (“h” + “a” + “n” = “han”). Canonical Equivalence In Unicode, precomposed characters exist alongside the dynamic composition system. A consequence of this is that there are multiple ways to express “the same” string—different sequences of code points that result in the same user-perceived characters. For example, as we saw earlier, we can express the character “Á” either as the single code point U+00C1, or as the string of two code points U+0041 U+0301.  Another source of ambiguity is the ordering of multiple diacritics in a single character. Diacritic order matters visually when two diacritics apply to the same side of the base character, e.g. both above: “ǡ” (dot, then macron) is different from “ā̇” (macron, then dot). However, when diacritics apply to different sides of the character, e.g. one above and one below, then the order doesn’t affect rendering. Moreover, a character with multiple diacritics might have one of the diacritics precomposed and others expressed as combining marks.  For example, the Vietnamese letter “ệ” can be expressed in five different ways:  Fully precomposed: U+1EC7 “ệ” Partially precomposed: U+1EB9 “ẹ” + U+0302 “◌̂” Partially precomposed: U+00EA “ê” + U+0323 “◌̣” Fully decomposed: U+0065 “e” + U+0323 “◌̣” + U+0302 “◌̂” Fully decomposed: U+0065 “e” + U+0302 “◌̂” + U+0323 “◌̣” Unicode refers to set of strings like this as “canonically equivalent”. Canonically equivalent strings are supposed to be treated as identical for purposes of searching, sorting, rendering, text selection, and so on. This has implications for how you implement operations on text. For example, if an app has a “find in file” operation and the user searches for “ệ”, it should, by default, find occurrences of any of the five versions of “ệ” above!  Normalization Forms To address the problem of “how to handle canonically equivalent strings”, Unicode defines several normalization forms: ways of converting strings into a canonical form so that they can be compared code-point-by-code-point (or byte-by-byte).  The “NFD” normalization form fully decomposes every character down to its component base and combining marks, taking apart any precomposed code points in the string. It also sorts the combining marks in each character according to their rendered position, so e.g. diacritics that go below the character come before the ones that go above the character. (It doesn’t reorder diacritics in the same rendered position, since their order matters visually, as previously mentioned.)  The “NFC” form, conversely, puts things back together into precomposed code points as much as possible. If an unusual combination of diacritics is called for, there may not be any precomposed code point for it, in which case NFC still precomposes what it can and leaves any remaining combining marks in place (again ordered by rendered position, as in NFD).  There are also forms called NFKD and NFKC. The “K” here refers to compatibility decompositions, which cover characters that are “similar” in some sense but not visually identical. However, I’m not going to cover that here.  Grapheme Clusters As we’ve seen, Unicode contains various cases where a thing that a user thinks of as a single “character” might actually be made up of multiple code points under the hood. Unicode formalizes this using the notion of a grapheme cluster: a string of one or more code points that constitute a single “user-perceived character”.  UAX #29 defines the rules for what, precisely, qualifies as a grapheme cluster. It’s approximately “a base code point followed by any number of combining marks”, but the actual definition is a bit more complicated; it accounts for things like Korean jamo, and emoji ZWJ sequences.  The main thing grapheme clusters are used for is text editing: they’re often the most sensible unit for cursor placement and text selection boundaries. Using grapheme clusters for these purposes ensures that you can’t accidentally chop off some diacritics when you copy-and-paste text, that left/right arrow keys always move the cursor by one visible character, and so on.  Another place where grapheme clusters are useful is in enforcing a string length limit—say, on a database field. While the true, underlying limit might be something like the byte length of the string in UTF-8, you wouldn’t want to enforce that by just truncating bytes. At a minimum, you’d want to “round down” to the nearest code point boundary; but even better, round down to the nearest grapheme cluster boundary. Otherwise, you might be corrupting the last character by cutting off a diacritic, or interrupting a jamo sequence or ZWJ sequence.  And More… There’s much more that could be said about Unicode from a programmer’s perspective! I haven’t gotten into such fun topics as case mapping, collation, compatibility decompositions and confusables, Unicode-aware regexes, or bidirectional text. Nor have I said anything yet about implementation issues—how to efficiently store and look-up data about the sparsely-assigned code points, or how to optimize UTF-8 decoding, string comparison, or NFC normalization. Perhaps I’ll return to some of those things in future posts.  Unicode is a fascinating and complex system. It has a many-to-one mapping between bytes and code points, and on top of that a many-to-one (or, under some circumstances, many-to-many) mapping between code points and “characters”. It has oddball special cases in every corner. But no one ever claimed that representing all written languages was going to be easy, and it’s clear that we’re never going back to the bad old days of a patchwork of incompatible encodings.  Further reading:  The Unicode Standard UTF-8 Everywhere Manifesto Dark corners of Unicode by Eevee ICU (International Components for Unicode)—C/C++/Java libraries implementing many Unicode algorithms and related things Python 3 Unicode Howto Google Noto Fonts—set of fonts intended to cover all assigned code points\"\"\"]"
   ]
  },
  {
   "cell_type": "code",
   "execution_count": 25,
   "metadata": {},
   "outputs": [
    {
     "name": "stdout",
     "output_type": "stream",
     "text": [
      "inital vocab size: 66\n",
      "{2: '\\\\', 3: 'o', 4: 'h', 5: 'á', 6: '3', 7: ' ', 8: 'é', 9: '7', 10: 'r', 11: 'e', 12: 'y', 13: 'p', 14: '9', 15: 'ó', 16: 'a', 17: '`', 18: 'v', 19: '1', 20: 'f', 21: 'ü', 22: 'u', 23: 'x', 24: 'è', 25: 'c', 26: '0', 27: ':', 28: '.', 29: 'ã', 30: 'm', 31: 'â', 32: \"'\", 33: 't', 34: ';', 35: '+', 36: '\\xa0', 37: 'z', 38: '?', 39: ',', 40: 'q', 41: 'í', 42: '#', 43: '/', 44: '-', 45: '$', 46: '8', 47: 'd', 48: 'j', 49: 'b', 50: '!', 51: 's', 52: '&', 53: 'k', 54: '4', 55: 'n', 56: 'ñ', 57: '*', 58: 'i', 59: '5', 60: '6', 61: 'ï', 62: 'æ', 63: 'l', 64: '2', 65: '=', 66: 'w', 67: 'g'}\n"
     ]
    },
    {
     "ename": "KeyboardInterrupt",
     "evalue": "",
     "output_type": "error",
     "traceback": [
      "\u001b[0;31m---------------------------------------------------------------------------\u001b[0m",
      "\u001b[0;31mKeyboardInterrupt\u001b[0m                         Traceback (most recent call last)",
      "Cell \u001b[0;32mIn[25], line 13\u001b[0m\n\u001b[1;32m     11\u001b[0m \u001b[38;5;66;03m# print(text[45])\u001b[39;00m\n\u001b[1;32m     12\u001b[0m start_time \u001b[38;5;241m=\u001b[39m time\u001b[38;5;241m.\u001b[39mtime()\n\u001b[0;32m---> 13\u001b[0m tokenizer1\u001b[38;5;241m.\u001b[39mtrain(text, \u001b[38;5;241m3000\u001b[39m) \u001b[38;5;66;03m# train the same number of tokens as GPT2\u001b[39;00m\n\u001b[1;32m     14\u001b[0m end_time \u001b[38;5;241m=\u001b[39m time\u001b[38;5;241m.\u001b[39mtime()\n\u001b[1;32m     15\u001b[0m elapsed_time \u001b[38;5;241m=\u001b[39m end_time \u001b[38;5;241m-\u001b[39m start_time\n",
      "File \u001b[0;32m~/Desktop/CSE256/homework/CSE256_PA1_FA24/tokenizer/basic.py:24\u001b[0m, in \u001b[0;36mBasicTokenizer.train\u001b[0;34m(self, text, vocab_size)\u001b[0m\n\u001b[1;32m     22\u001b[0m \u001b[38;5;66;03m# save two ids for padding and UNK\u001b[39;00m\n\u001b[1;32m     23\u001b[0m next_id \u001b[38;5;241m=\u001b[39m \u001b[38;5;28mlen\u001b[39m(vocab) \u001b[38;5;241m+\u001b[39m \u001b[38;5;241m2\u001b[39m \n\u001b[0;32m---> 24\u001b[0m pair \u001b[38;5;241m=\u001b[39m \u001b[38;5;28mmax\u001b[39m(stats, key\u001b[38;5;241m=\u001b[39mstats\u001b[38;5;241m.\u001b[39mget)\n\u001b[1;32m     25\u001b[0m merges[pair] \u001b[38;5;241m=\u001b[39m pair[\u001b[38;5;241m0\u001b[39m] \u001b[38;5;241m+\u001b[39m pair[\u001b[38;5;241m1\u001b[39m]\n\u001b[1;32m     26\u001b[0m vocab[next_id] \u001b[38;5;241m=\u001b[39m merges[pair]\n",
      "\u001b[0;31mKeyboardInterrupt\u001b[0m: "
     ]
    }
   ],
   "source": [
    "import importlib\n",
    "import tokenizer\n",
    "importlib.reload(tokenizer)\n",
    "from sentiment_data import read_sentiment_examples\n",
    "import time\n",
    "\n",
    "tokenizer1 = tokenizer.BasicTokenizer()\n",
    "examples = read_sentiment_examples('data/train.txt')  \n",
    "\n",
    "text = [\" \".join(ex.words) for ex in examples]\n",
    "# print(text[45])\n",
    "start_time = time.time()\n",
    "tokenizer1.train(text, 3000) # train the same number of tokens as GPT2\n",
    "end_time = time.time()\n",
    "elapsed_time = end_time - start_time\n",
    "print(f\"BPE trained in : {elapsed_time} seconds\")"
   ]
  },
  {
   "cell_type": "code",
   "execution_count": 24,
   "metadata": {},
   "outputs": [],
   "source": [
    "tokenizer1.save('cpe3000')"
   ]
  },
  {
   "cell_type": "code",
   "execution_count": 16,
   "metadata": {},
   "outputs": [],
   "source": [
    "import importlib\n",
    "import tokenizer\n",
    "importlib.reload(tokenizer)\n",
    "\n",
    "tokenizer2 = tokenizer.BasicTokenizer()\n",
    "tokenizer2.load('tokenizer/model/cpe1000')"
   ]
  },
  {
   "cell_type": "code",
   "execution_count": 19,
   "metadata": {},
   "outputs": [
    {
     "data": {
      "text/plain": [
       "['i love apples!!!?   yeah', 'what the fuck']"
      ]
     },
     "execution_count": 19,
     "metadata": {},
     "output_type": "execute_result"
    }
   ],
   "source": [
    "tokenizer2.decode(tokenizer2.encode([\"i love apples!!!?   yeah\", \"what the fuck\"]))\n"
   ]
  },
  {
   "cell_type": "code",
   "execution_count": 8,
   "metadata": {},
   "outputs": [
    {
     "name": "stdout",
     "output_type": "stream",
     "text": [
      "1\n",
      "36\n",
      " \n",
      "12285\n",
      "love to \n",
      "7319\n",
      "eat \n",
      "12822\n",
      "appl\n",
      "114\n",
      "es\n",
      "64\n",
      "!\n",
      "64\n",
      "!\n"
     ]
    }
   ],
   "source": [
    "code = tokenizer2.encode([\"I love to eat apples!!\"])\n",
    "\n",
    "for id in code[0]:\n",
    "    print(id)\n",
    "    if id != 1:\n",
    "        print(tokenizer2.vocab[id])"
   ]
  },
  {
   "cell_type": "code",
   "execution_count": 2,
   "metadata": {},
   "outputs": [
    {
     "data": {
      "text/plain": [
       "'\\xa0'"
      ]
     },
     "execution_count": 2,
     "metadata": {},
     "output_type": "execute_result"
    }
   ],
   "source": [
    "weird = ' '\n",
    "input_string = weird.replace(r'<space>', ' ')\n",
    "input_string\n"
   ]
  },
  {
   "cell_type": "code",
   "execution_count": 8,
   "metadata": {},
   "outputs": [
    {
     "data": {
      "text/plain": [
       "['I love to eat apples!!']"
      ]
     },
     "execution_count": 8,
     "metadata": {},
     "output_type": "execute_result"
    }
   ],
   "source": [
    "tokenizer2.decode(tokenizer2.encode([\"I love to eat apples!!\"]))"
   ]
  },
  {
   "cell_type": "code",
   "execution_count": 7,
   "metadata": {},
   "outputs": [
    {
     "data": {
      "text/plain": [
       "276"
      ]
     },
     "execution_count": 7,
     "metadata": {},
     "output_type": "execute_result"
    }
   ],
   "source": [
    "len(tokenizer2.vocab)\n"
   ]
  },
  {
   "cell_type": "code",
   "execution_count": 6,
   "metadata": {},
   "outputs": [
    {
     "data": {
      "text/plain": [
       "{'י': [2],\n",
       " 'V': [3],\n",
       " '̜': [4],\n",
       " 'G': [5],\n",
       " 'ṋ': [6],\n",
       " '͢': [7],\n",
       " '‽': [8],\n",
       " '̳': [9],\n",
       " '🇮': [10],\n",
       " '̱': [11],\n",
       " 'D': [12],\n",
       " '◌': [13],\n",
       " '0': [14],\n",
       " 'E': [15],\n",
       " '%': [16],\n",
       " 'ד': [17],\n",
       " 'z': [18],\n",
       " '?': [19],\n",
       " 'ה': [20],\n",
       " '̇': [21],\n",
       " '̵': [22],\n",
       " 'ḻ': [23],\n",
       " 'ę': [24],\n",
       " '͕': [25],\n",
       " 'ि': [26],\n",
       " 'Y': [27],\n",
       " '🇺': [28],\n",
       " '̂': [29],\n",
       " 'F': [30],\n",
       " 'ļ': [31],\n",
       " '🅘': [32],\n",
       " 'i': [33],\n",
       " 'N': [34],\n",
       " 'g': [35],\n",
       " 'I': [36],\n",
       " 'r': [37],\n",
       " 'R': [38],\n",
       " '̺': [39],\n",
       " 'ê': [40],\n",
       " '̴': [41],\n",
       " 'נ': [42],\n",
       " 'x': [43],\n",
       " ':': [44],\n",
       " 'ו': [45],\n",
       " '6': [46],\n",
       " 'U': [47],\n",
       " 'ｄ': [48],\n",
       " ';': [49],\n",
       " '͙': [50],\n",
       " 'ֹ': [51],\n",
       " '🅓': [52],\n",
       " '🇳': [53],\n",
       " '͠': [54],\n",
       " 'ḁ': [55],\n",
       " '́': [56],\n",
       " '҉': [57],\n",
       " '😄': [58],\n",
       " '̣': [59],\n",
       " '·': [60],\n",
       " '̼': [61],\n",
       " 't': [62],\n",
       " '…': [63],\n",
       " '̯': [64],\n",
       " 'c': [65],\n",
       " '🇴': [66],\n",
       " '.': [67],\n",
       " 'q': [68],\n",
       " 'ệ': [69],\n",
       " 'ｉ': [70],\n",
       " '9': [71],\n",
       " 'H': [72],\n",
       " 'ᆫ': [73],\n",
       " '̤': [74],\n",
       " 'u': [75],\n",
       " 'ט': [76],\n",
       " 'K': [77],\n",
       " 'O': [78],\n",
       " '”': [79],\n",
       " 'ｅ': [80],\n",
       " 'ּ': [81],\n",
       " '\\u200b': [82],\n",
       " ',': [83],\n",
       " 'ֵ': [84],\n",
       " 'ह': [85],\n",
       " 'a': [86],\n",
       " '͓': [87],\n",
       " 'P': [88],\n",
       " '̘': [89],\n",
       " '̷': [90],\n",
       " 'e': [91],\n",
       " 'h': [92],\n",
       " 'ᄒ': [93],\n",
       " 'S': [94],\n",
       " 'f': [95],\n",
       " 'ᅡ': [96],\n",
       " 'T': [97],\n",
       " '(': [98],\n",
       " 'ģ': [99],\n",
       " '̛': [100],\n",
       " '🅒': [101],\n",
       " 'ｎ': [102],\n",
       " '🇩': [103],\n",
       " '͖': [104],\n",
       " '͜': [105],\n",
       " '7': [106],\n",
       " '3': [107],\n",
       " 'כ': [108],\n",
       " 'ó': [109],\n",
       " 'm': [110],\n",
       " 'ׁ': [111],\n",
       " 'ז': [112],\n",
       " '🅝': [113],\n",
       " '한': [114],\n",
       " 'k': [115],\n",
       " '̗': [116],\n",
       " '̡': [117],\n",
       " '͝': [118],\n",
       " '̦': [119],\n",
       " 'ｏ': [120],\n",
       " 'ț': [121],\n",
       " 'ַ': [122],\n",
       " '=': [123],\n",
       " '🅤': [124],\n",
       " 'J': [125],\n",
       " '🇪': [126],\n",
       " '1': [127],\n",
       " '🅞': [128],\n",
       " 'd': [129],\n",
       " '!': [130],\n",
       " '̬': [131],\n",
       " '8': [132],\n",
       " '͡': [133],\n",
       " 'M': [134],\n",
       " '̝': [135],\n",
       " '̙': [136],\n",
       " '̸': [137],\n",
       " 'v': [138],\n",
       " 'θ': [139],\n",
       " 'Ｕ': [140],\n",
       " '̕': [141],\n",
       " 'Á': [142],\n",
       " '͚': [143],\n",
       " '̪': [144],\n",
       " '̢': [145],\n",
       " '×': [146],\n",
       " 'ְ': [147],\n",
       " '’': [148],\n",
       " '͟': [149],\n",
       " 'ע': [150],\n",
       " ' ': [151],\n",
       " '/': [152],\n",
       " 'Z': [153],\n",
       " 'א': [154],\n",
       " '̥': [155],\n",
       " 'W': [156],\n",
       " 'j': [157],\n",
       " '–': [158],\n",
       " '5': [159],\n",
       " 'ָ': [160],\n",
       " '̮': [161],\n",
       " 's': [162],\n",
       " 'ḙ': [163],\n",
       " 'ǡ': [164],\n",
       " '̨': [165],\n",
       " '+': [166],\n",
       " '̟': [167],\n",
       " '͔': [168],\n",
       " 'o': [169],\n",
       " '͞': [170],\n",
       " '͉': [171],\n",
       " 'ל': [172],\n",
       " 'ת': [173],\n",
       " 'ק': [174],\n",
       " '#': [175],\n",
       " '4': [176],\n",
       " '\\u200c': [177],\n",
       " 'ב': [178],\n",
       " '͎': [179],\n",
       " 'ý': [180],\n",
       " 'ִ': [181],\n",
       " '͘': [182],\n",
       " 'C': [183],\n",
       " '̞': [184],\n",
       " '\\t': [185],\n",
       " '2': [186],\n",
       " '🅔': [187],\n",
       " 'l': [188],\n",
       " '̭': [189],\n",
       " '͇': [190],\n",
       " 'ｃ': [191],\n",
       " 'ẹ': [192],\n",
       " 'ṷ': [193],\n",
       " 'ͅ': [194],\n",
       " '͈': [195],\n",
       " 'y': [196],\n",
       " '̩': [197],\n",
       " '̶': [198],\n",
       " 'b': [199],\n",
       " '—': [200],\n",
       " ')': [201],\n",
       " '-': [202],\n",
       " '̖': [203],\n",
       " '😊': [204],\n",
       " '̲': [205],\n",
       " 'ֶ': [206],\n",
       " 'w': [207],\n",
       " 'A': [208],\n",
       " 'L': [209],\n",
       " '̫': [210],\n",
       " '̰': [211],\n",
       " 'X': [212],\n",
       " '_': [213],\n",
       " '͍': [214],\n",
       " 'ā': [215],\n",
       " '̠': [216],\n",
       " 'p': [217],\n",
       " '̻': [218],\n",
       " 'ש': [219],\n",
       " 'n': [220],\n",
       " '“': [221],\n",
       " '🇨': [222],\n",
       " 'B': [223],\n",
       " '͏': [224],\n",
       " '̹': [225],\n",
       " 'e ': 224,\n",
       " 'in': 225,\n",
       " 's ': 226,\n",
       " 'th': 227,\n",
       " 'er': 228,\n",
       " 'co': 229,\n",
       " 't ': 230,\n",
       " ', ': 231,\n",
       " 'an': 232,\n",
       " 'or': 233,\n",
       " 'd ': 234,\n",
       " 'ar': 235,\n",
       " 'en': 236,\n",
       " 'ing': 237,\n",
       " 'cod': 238,\n",
       " 'y ': 239,\n",
       " '. ': 240,\n",
       " 'al': 241,\n",
       " 'the ': 242,\n",
       " 'on': 243,\n",
       " 'o ': 244,\n",
       " 'ti': 245,\n",
       " 'ac': 246,\n",
       " 'es': 247,\n",
       " 'of': 248,\n",
       " 'code ': 249,\n",
       " 'po': 250,\n",
       " 'ing ': 251,\n",
       " 'of ': 252,\n",
       " 'ed ': 253,\n",
       " 'ter': 254,\n",
       " 'to ': 255,\n",
       " 'in ': 256,\n",
       " 'a ': 257,\n",
       " 'or ': 258,\n",
       " 'st': 259,\n",
       " 'ou': 260,\n",
       " 'ch': 261,\n",
       " 'xx': 262,\n",
       " 'ex': 263,\n",
       " 'es ': 264,\n",
       " 'com': 265,\n",
       " 'and ': 266,\n",
       " 'pl': 267,\n",
       " 'it': 268,\n",
       " 'poin': 269,\n",
       " 're': 270,\n",
       " 'ni': 271,\n",
       " 'all': 272,\n",
       " 'at': 273,\n",
       " 'er ': 274,\n",
       " 'is ': 275}"
      ]
     },
     "execution_count": 6,
     "metadata": {},
     "output_type": "execute_result"
    }
   ],
   "source": [
    "tokenizer2.reverse_vocab"
   ]
  },
  {
   "cell_type": "code",
   "execution_count": null,
   "metadata": {},
   "outputs": [],
   "source": []
  }
 ],
 "metadata": {
  "kernelspec": {
   "display_name": "computer-vision",
   "language": "python",
   "name": "python3"
  },
  "language_info": {
   "codemirror_mode": {
    "name": "ipython",
    "version": 3
   },
   "file_extension": ".py",
   "mimetype": "text/x-python",
   "name": "python",
   "nbconvert_exporter": "python",
   "pygments_lexer": "ipython3",
   "version": "3.12.2"
  }
 },
 "nbformat": 4,
 "nbformat_minor": 2
}
